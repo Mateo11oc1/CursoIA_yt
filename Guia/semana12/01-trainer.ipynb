{
 "cells": [
  {
   "cell_type": "code",
   "execution_count": 1,
   "id": "16054fc5",
   "metadata": {},
   "outputs": [],
   "source": [
    "import pandas as pd"
   ]
  },
  {
   "cell_type": "code",
   "execution_count": 2,
   "id": "f8663765",
   "metadata": {},
   "outputs": [],
   "source": [
    "import numpy as np"
   ]
  },
  {
   "cell_type": "code",
   "execution_count": 5,
   "id": "d59f3c9e",
   "metadata": {},
   "outputs": [],
   "source": [
    "import pandas as pd\n",
    "import numpy as np\n",
    "from tensorflow import keras\n",
    "import matplotlib.pyplot as plt\n",
    "\n",
    "# Red neuronal secuencial\n",
    "from tensorflow.keras.models import Sequential\n",
    "# Capa completamente conectada\n",
    "from tensorflow.keras import layers\n",
    "from tensorflow.keras.layers import Dense, Conv2D\n",
    "# Optimizador\n",
    "from tensorflow.keras.optimizers import Adam"
   ]
  },
  {
   "cell_type": "code",
   "execution_count": 4,
   "id": "cbb4fc23",
   "metadata": {},
   "outputs": [],
   "source": [
    "registros = 10000\n",
    "a = np.random.randint(0, 10, registros)\n",
    "b = np.random.randint(0, 10, registros)\n",
    "c = a * 2 + b"
   ]
  },
  {
   "cell_type": "code",
   "execution_count": 6,
   "id": "9cfac518",
   "metadata": {},
   "outputs": [],
   "source": [
    "data = pd.DataFrame({'a': a, 'b': b, 'c': c})"
   ]
  },
  {
   "cell_type": "code",
   "execution_count": 7,
   "id": "260b411e",
   "metadata": {},
   "outputs": [],
   "source": [
    "X = data[['a', 'b']]\n",
    "y = data[['c']]"
   ]
  },
  {
   "cell_type": "code",
   "execution_count": 9,
   "id": "362f3fbf",
   "metadata": {},
   "outputs": [],
   "source": [
    "# Crear red neuronal \n",
    "nn = Sequential([\n",
    "    layers.Input(2),\n",
    "    layers.Dense(8, activation='relu'),\n",
    "    layers.Dense(8, activation='relu'),\n",
    "    layers.Dense(1, activation='relu')\n",
    "])"
   ]
  },
  {
   "cell_type": "code",
   "execution_count": 10,
   "id": "c07e9702",
   "metadata": {},
   "outputs": [],
   "source": [
    "nn.compile(\n",
    "    loss='mean_absolute_error', # funcion de error\n",
    "    optimizer=Adam(0.001)       # optimizador\n",
    ")"
   ]
  },
  {
   "cell_type": "code",
   "execution_count": 11,
   "id": "79e79432",
   "metadata": {},
   "outputs": [
    {
     "name": "stdout",
     "output_type": "stream",
     "text": [
      "Epoch 1/10\n",
      "250/250 [==============================] - 1s 1ms/step - loss: 3.1658 - val_loss: 0.2071\n",
      "Epoch 2/10\n",
      "250/250 [==============================] - 0s 841us/step - loss: 0.0803 - val_loss: 0.0502\n",
      "Epoch 3/10\n",
      "250/250 [==============================] - 0s 772us/step - loss: 0.0358 - val_loss: 0.0219\n",
      "Epoch 4/10\n",
      "250/250 [==============================] - 0s 774us/step - loss: 0.0247 - val_loss: 0.0177\n",
      "Epoch 5/10\n",
      "250/250 [==============================] - 0s 775us/step - loss: 0.0165 - val_loss: 0.0104\n",
      "Epoch 6/10\n",
      "250/250 [==============================] - 0s 799us/step - loss: 0.0126 - val_loss: 0.0093\n",
      "Epoch 7/10\n",
      "250/250 [==============================] - 0s 795us/step - loss: 0.0145 - val_loss: 0.0042\n",
      "Epoch 8/10\n",
      "250/250 [==============================] - 0s 806us/step - loss: 0.0195 - val_loss: 0.0347\n",
      "Epoch 9/10\n",
      "250/250 [==============================] - 0s 802us/step - loss: 0.0145 - val_loss: 0.0184\n",
      "Epoch 10/10\n",
      "250/250 [==============================] - 0s 787us/step - loss: 0.0171 - val_loss: 0.0134\n"
     ]
    }
   ],
   "source": [
    "history = nn.fit(\n",
    "    X,\n",
    "    y,\n",
    "    validation_split=0.2,\n",
    "    verbose=1,\n",
    "    epochs=10\n",
    ")"
   ]
  },
  {
   "cell_type": "code",
   "execution_count": 16,
   "id": "91d356ce",
   "metadata": {},
   "outputs": [
    {
     "name": "stdout",
     "output_type": "stream",
     "text": [
      "[[11.010638]]\n"
     ]
    }
   ],
   "source": [
    "prediccion = nn.predict(np.array([[4, 3]]))\n",
    "print(prediccion)"
   ]
  },
  {
   "cell_type": "code",
   "execution_count": 17,
   "id": "523b8a03",
   "metadata": {},
   "outputs": [],
   "source": [
    "nn.save('regresion.h5')"
   ]
  }
 ],
 "metadata": {
  "kernelspec": {
   "display_name": "Python 3 (ipykernel)",
   "language": "python",
   "name": "python3"
  },
  "language_info": {
   "codemirror_mode": {
    "name": "ipython",
    "version": 3
   },
   "file_extension": ".py",
   "mimetype": "text/x-python",
   "name": "python",
   "nbconvert_exporter": "python",
   "pygments_lexer": "ipython3",
   "version": "3.9.7"
  }
 },
 "nbformat": 4,
 "nbformat_minor": 5
}
