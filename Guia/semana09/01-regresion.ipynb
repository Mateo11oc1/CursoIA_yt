{
 "cells": [
  {
   "cell_type": "markdown",
   "id": "2c40a54f",
   "metadata": {},
   "source": [
    "# Proceso estándar de regresión\n",
    "\n",
    "1. Separar datos de entrenamiento / prueba\n",
    "2. Normalizar datos / Crear un normalizador\n",
    "3. Crear modelo (NN)\n",
    "4. Entrenar\n",
    "5. Evaluar resultados"
   ]
  },
  {
   "cell_type": "code",
   "execution_count": null,
   "id": "33aeb316",
   "metadata": {},
   "outputs": [],
   "source": [
    "import pandas as pd\n",
    "import matplotlib.pyplot as plt\n",
    "import numpy as np\n",
    "\n",
    "# Red neuronal secuencial\n",
    "from tensorflow.keras.models import Sequential\n",
    "# Capa completamente conectada\n",
    "from tensorflow.keras.layers import Dense, Normalization\n",
    "# Optimizador\n",
    "from tensorflow.keras.optimizers import Adam"
   ]
  },
  {
   "cell_type": "code",
   "execution_count": null,
   "id": "0d8e9641",
   "metadata": {},
   "outputs": [],
   "source": [
    "# asegurar que los resultados sean \"reproducibles\"\n",
    "import tensorflow as tf\n",
    "\n",
    "np.random.seed(1234)\n",
    "tf.random.set_seed(1234)"
   ]
  },
  {
   "cell_type": "markdown",
   "id": "6b555f46",
   "metadata": {},
   "source": [
    "### Datos de entrenamiento / prueba"
   ]
  },
  {
   "cell_type": "code",
   "execution_count": null,
   "id": "e80324a4",
   "metadata": {},
   "outputs": [],
   "source": [
    "X_train = pd.read_csv('X_train.csv')\n",
    "y_train = pd.read_csv('y_train.csv')\n",
    "X_test = pd.read_csv('X_test.csv')\n",
    "y_test = pd.read_csv('y_test.csv')"
   ]
  },
  {
   "cell_type": "markdown",
   "id": "9a0f2db6",
   "metadata": {},
   "source": [
    "### Normalización"
   ]
  },
  {
   "cell_type": "code",
   "execution_count": null,
   "id": "22018978",
   "metadata": {},
   "outputs": [],
   "source": [
    "def crear_normalizador(datos):\n",
    "    normalizer = Normalization(axis=-1)\n",
    "    normalizer.adapt(np.array(datos))\n",
    "    return normalizer"
   ]
  },
  {
   "cell_type": "code",
   "execution_count": null,
   "id": "6f8a21ab",
   "metadata": {},
   "outputs": [],
   "source": [
    "normalizador = crear_normalizador(X_train)"
   ]
  },
  {
   "cell_type": "markdown",
   "id": "4371ae72",
   "metadata": {},
   "source": [
    "### Creación Red Neuronal"
   ]
  },
  {
   "cell_type": "code",
   "execution_count": null,
   "id": "4e849129",
   "metadata": {},
   "outputs": [],
   "source": [
    "def crear_nn_regresion(norm):\n",
    "    model = Sequential([\n",
    "        norm,\n",
    "        Dense(32, activation='relu'),\n",
    "        Dense(64, activation='relu'),\n",
    "        Dense(32, activation='relu'),\n",
    "        Dense(1)\n",
    "    ])\n",
    "    model.compile(loss='mean_absolute_error', optimizer=Adam(0.001))\n",
    "    return model"
   ]
  },
  {
   "cell_type": "code",
   "execution_count": null,
   "id": "2d7139f9",
   "metadata": {},
   "outputs": [],
   "source": [
    "nn = crear_nn_regresion(normalizador)"
   ]
  },
  {
   "cell_type": "markdown",
   "id": "84c33401",
   "metadata": {},
   "source": [
    "### Entrenamiento del modelo"
   ]
  },
  {
   "cell_type": "code",
   "execution_count": null,
   "id": "d7a8e74c",
   "metadata": {
    "scrolled": true
   },
   "outputs": [],
   "source": [
    "history = nn.fit(\n",
    "    X_train,\n",
    "    y_train,\n",
    "    validation_split=0.2,\n",
    "    verbose=0,\n",
    "    epochs=100\n",
    ")"
   ]
  },
  {
   "cell_type": "markdown",
   "id": "a071e001",
   "metadata": {},
   "source": [
    "### Evaluar el rendimiento del modelo"
   ]
  },
  {
   "cell_type": "code",
   "execution_count": null,
   "id": "ab1bc0ac",
   "metadata": {},
   "outputs": [],
   "source": [
    "nn.evaluate(X_test, y_test, verbose=0)"
   ]
  },
  {
   "cell_type": "code",
   "execution_count": null,
   "id": "ad2ca4da",
   "metadata": {},
   "outputs": [],
   "source": [
    "# Creación de predicciones\n",
    "y_pred = nn.predict(X_test).flatten()"
   ]
  },
  {
   "cell_type": "code",
   "execution_count": null,
   "id": "5d79d5d9",
   "metadata": {},
   "outputs": [],
   "source": [
    "a = plt.axes(aspect='equal')\n",
    "plt.scatter(y_test, y_pred)\n",
    "plt.xlabel('Real [MPG]')\n",
    "plt.ylabel('Prediccion [MPG]')\n",
    "lims = [0, 50]\n",
    "plt.xlim(lims)\n",
    "plt.ylim(lims)\n",
    "plt.plot(lims, lims)"
   ]
  }
 ],
 "metadata": {
  "kernelspec": {
   "display_name": "Python 3 (ipykernel)",
   "language": "python",
   "name": "python3"
  },
  "language_info": {
   "codemirror_mode": {
    "name": "ipython",
    "version": 3
   },
   "file_extension": ".py",
   "mimetype": "text/x-python",
   "name": "python",
   "nbconvert_exporter": "python",
   "pygments_lexer": "ipython3",
   "version": "3.9.7"
  }
 },
 "nbformat": 4,
 "nbformat_minor": 5
}
