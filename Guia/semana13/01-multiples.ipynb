{
 "cells": [
  {
   "cell_type": "code",
   "execution_count": 26,
   "id": "d6093f8c",
   "metadata": {},
   "outputs": [],
   "source": [
    "# Manipulación de datos\n",
    "import pandas as pd\n",
    "# Operaciones numéricas\n",
    "import numpy as np\n",
    "# Para medición del tiempo que toma ejecutar los procesos\n",
    "from time import time\n",
    "# Librería para Random forest\n",
    "from sklearn.ensemble import RandomForestClassifier, AdaBoostClassifier\n",
    "# Librería para SVM\n",
    "from sklearn.svm import SVC\n",
    "# Librería para NaieveBayes\n",
    "from sklearn.naive_bayes import GaussianNB\n",
    "# Librería para KNN\n",
    "from sklearn.neighbors import KNeighborsClassifier\n",
    "# Medición de precisión\n",
    "from sklearn.metrics import accuracy_score\n",
    "# guardar modelos\n",
    "from joblib import dump, load"
   ]
  },
  {
   "cell_type": "code",
   "execution_count": 2,
   "id": "a27c046b",
   "metadata": {},
   "outputs": [],
   "source": [
    "X_train = pd.read_csv('X_train.csv')\n",
    "X_test = pd.read_csv('X_test.csv')\n",
    "y_train = pd.read_csv('y_train.csv')\n",
    "y_test = pd.read_csv('y_test.csv')"
   ]
  },
  {
   "cell_type": "code",
   "execution_count": 15,
   "id": "3b0ab520",
   "metadata": {},
   "outputs": [],
   "source": [
    "nombres = [\n",
    "    \"Linear SVM\",\n",
    "    \"RBF SVM\",\n",
    "    \"Poly SVM\",\n",
    "    \"Random Forest\",\n",
    "    \"KNN\",\n",
    "    \"AdaBoost\",\n",
    "    \"Naive Bayes\",\n",
    "]\n",
    "modelos = [\n",
    "    SVC(kernel=\"linear\"),\n",
    "    SVC(kernel=\"rbf\"),\n",
    "    SVC(kernel=\"poly\"),\n",
    "    RandomForestClassifier(max_depth=5, n_estimators=10),\n",
    "    KNeighborsClassifier(3),\n",
    "    AdaBoostClassifier(),\n",
    "    GaussianNB()\n",
    "]"
   ]
  },
  {
   "cell_type": "code",
   "execution_count": 29,
   "id": "97d5693e",
   "metadata": {},
   "outputs": [
    {
     "name": "stdout",
     "output_type": "stream",
     "text": [
      "Linear SVM\n",
      "0.9473684210526315\n",
      "======\n",
      "RBF SVM\n",
      "0.9473684210526315\n",
      "======\n",
      "Poly SVM\n",
      "0.9473684210526315\n",
      "======\n",
      "Random Forest\n",
      "0.9210526315789473\n",
      "======\n",
      "KNN\n",
      "0.9473684210526315\n",
      "======\n",
      "AdaBoost\n",
      "0.9210526315789473\n",
      "======\n",
      "Naive Bayes\n",
      "0.9210526315789473\n",
      "======\n"
     ]
    }
   ],
   "source": [
    "for indice, clf in enumerate(modelos):\n",
    "    clf.fit(X_train, y_train.values.ravel())\n",
    "    y_pred = clf.predict(X_test)\n",
    "    print(nombres[indice])\n",
    "    print(accuracy_score(y_test, y_pred))\n",
    "    print('======')\n",
    "    # exportar modelo\n",
    "    dump(clf, f'{nombres[indice]}.joblib')"
   ]
  }
 ],
 "metadata": {
  "kernelspec": {
   "display_name": "Python 3 (ipykernel)",
   "language": "python",
   "name": "python3"
  },
  "language_info": {
   "codemirror_mode": {
    "name": "ipython",
    "version": 3
   },
   "file_extension": ".py",
   "mimetype": "text/x-python",
   "name": "python",
   "nbconvert_exporter": "python",
   "pygments_lexer": "ipython3",
   "version": "3.9.7"
  }
 },
 "nbformat": 4,
 "nbformat_minor": 5
}
