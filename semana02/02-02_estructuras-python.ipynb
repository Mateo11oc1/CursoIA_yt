{
 "cells": [
  {
   "cell_type": "markdown",
   "metadata": {},
   "source": [
    "# Estructuras Python\n",
    "\n",
    "- Los datos en IA se representan en **matrices.**\n",
    "\n",
    "# Estructuras simples Python\n",
    "\n",
    "- Listas\n",
    "- Diccionarios"
   ]
  },
  {
   "cell_type": "code",
   "execution_count": 1,
   "metadata": {},
   "outputs": [
    {
     "name": "stdout",
     "output_type": "stream",
     "text": [
      "['gato', 'perro', 'caballo']\n"
     ]
    }
   ],
   "source": [
    "#Ejemplo de lista\n",
    "\n",
    "mi_lista = [\"gato\", \"perro\", \"caballo\"]\n",
    "print(mi_lista)"
   ]
  }
 ],
 "metadata": {
  "kernelspec": {
   "display_name": "Python 3 (ipykernel)",
   "language": "python",
   "name": "python3"
  },
  "language_info": {
   "codemirror_mode": {
    "name": "ipython",
    "version": 3
   },
   "file_extension": ".py",
   "mimetype": "text/x-python",
   "name": "python",
   "nbconvert_exporter": "python",
   "pygments_lexer": "ipython3",
   "version": "3.11.2"
  }
 },
 "nbformat": 4,
 "nbformat_minor": 2
}
