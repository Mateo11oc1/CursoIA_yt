{
 "cells": [
  {
   "cell_type": "markdown",
   "metadata": {},
   "source": [
    "# Áreas aplicadas en la IA\n",
    "\n",
    "- Estadística\n",
    "- Cálculo\n",
    "- Álgebra lineal\n",
    "- Probabilidad\n",
    "- Estructuras de datos\n",
    "\n",
    "# Pasos para crear un modelo de IA\n",
    "\n",
    "1. Obtención de datos\n",
    "2. Exploración de datos\n",
    "3. Limpieza / formato de datos\n",
    "4. Creación del modelo\n",
    "5. Entrenamiento del modelo\n",
    "6. Pruebas de rendimiento\n",
    "7. Implementación"
   ]
  }
 ],
 "metadata": {
  "language_info": {
   "name": "python"
  },
  "orig_nbformat": 4
 },
 "nbformat": 4,
 "nbformat_minor": 2
}
